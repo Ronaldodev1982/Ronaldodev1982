{
  "nbformat": 4,
  "nbformat_minor": 0,
  "metadata": {
    "colab": {
      "provenance": [],
      "authorship_tag": "ABX9TyNMZm4jnnqRchVi4kGrlYu6",
      "include_colab_link": true
    },
    "kernelspec": {
      "name": "python3",
      "display_name": "Python 3"
    },
    "language_info": {
      "name": "python"
    }
  },
  "cells": [
    {
      "cell_type": "markdown",
      "metadata": {
        "id": "view-in-github",
        "colab_type": "text"
      },
      "source": [
        "<a href=\"https://colab.research.google.com/github/Ronaldodev1982/Ronaldodev1982/blob/main/Reconhecimentodevoz.ipynb\" target=\"_parent\"><img src=\"https://colab.research.google.com/assets/colab-badge.svg\" alt=\"Open In Colab\"/></a>"
      ]
    },
    {
      "cell_type": "code",
      "execution_count": null,
      "metadata": {
        "id": "ST71bdNZCvNx"
      },
      "outputs": [],
      "source": [
        "import pyttsx3\n",
        "import speech_recognition as sr\n",
        "import webbrowser\n",
        "import pyaudio\n",
        "from pygame import mixer\n",
        "\n",
        "ia = pyttsx3.init()\n",
        "ia.say('Olá Ronaldo, O que você deseja hoje?')\n",
        "ia.setProperty('voice', b'brazil')\n",
        "ia.setProperty('rate', 100)\n",
        "ia.setProperty('volume', 1)\n",
        "ia.runAndWait()\n",
        "\n",
        "reconhecimento = sr.Recognizer()\n",
        "with sr.Microphone() as source:\n",
        "    reconhecimento.adjust_for_ambient_noise(source)\n",
        "    audio = reconhecimento.listen(source)\n",
        "\n",
        "try:\n",
        "    resposta = reconhecimento.recongnize_google(audio, language='pt-BR')\n",
        "\n",
        "except:\n",
        "    ia.say('Desculpe, não entendi poderia repetir?')\n",
        "    ia.setProperty('voice', b'brazil')\n",
        "    ia.setProperty('rate', 135)\n",
        "    ia.setProperty('volume', 1)\n",
        "    ia.runAndWait()\n",
        "\n",
        "if resposta == (\"abra o email\"):\n",
        "    ia.say('ok,abrindo o email')\n",
        "    ia.setProperty('voice', b'brazil')\n",
        "    ia.setProperty('rate', 135)\n",
        "    ia.setProperty('volume', 5)\n",
        "    ia.runAndWait()\n",
        "    webbrowser.open('https://mail.google.com/mail')\n",
        "elif resposta == (\"Abra o site da DIO\"):\n",
        "    ia.say('ok,abrindo o site da DIO')\n",
        "    ia.setProperty('voice', b'brazil')\n",
        "    ia.setProperty('rate', 135)\n",
        "    ia.setProperty('volume', 5)\n",
        "    ia.runAndWait()\n",
        "    webbrowser.open('https://web.dio.me/home')"
      ]
    }
  ]
}